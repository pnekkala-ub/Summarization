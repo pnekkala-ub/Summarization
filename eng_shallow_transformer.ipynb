{
  "cells": [
    {
      "cell_type": "markdown",
      "metadata": {},
      "source": [
        "Install dependencies"
      ]
    },
    {
      "cell_type": "code",
      "execution_count": 2,
      "metadata": {
        "colab": {
          "base_uri": "https://localhost:8080/"
        },
        "id": "_JtmIK3ScNP8",
        "outputId": "08f79679-ee86-4ca1-a121-042e9c70bcb3"
      },
      "outputs": [
        {
          "name": "stdout",
          "output_type": "stream",
          "text": [
            "\u001b[2K     \u001b[90m━━━━━━━━━━━━━━━━━━━━━━━━━━━━━━━━━━━━━━━━\u001b[0m \u001b[32m6.7/6.7 MB\u001b[0m \u001b[31m37.9 MB/s\u001b[0m eta \u001b[36m0:00:00\u001b[0m\n",
            "\u001b[?25h\u001b[31mERROR: pip's dependency resolver does not currently take into account all the packages that are installed. This behaviour is the source of the following dependency conflicts.\n",
            "en-core-web-sm 3.5.0 requires spacy<3.6.0,>=3.5.0, but you have spacy 3.6.0 which is incompatible.\u001b[0m\u001b[31m\n",
            "\u001b[0m2023-07-31 10:32:24.777301: I tensorflow/core/platform/cpu_feature_guard.cc:182] This TensorFlow binary is optimized to use available CPU instructions in performance-critical operations.\n",
            "To enable the following instructions: AVX2 AVX512F FMA, in other operations, rebuild TensorFlow with the appropriate compiler flags.\n",
            "2023-07-31 10:32:25.826988: W tensorflow/compiler/tf2tensorrt/utils/py_utils.cc:38] TF-TRT Warning: Could not find TensorRT\n",
            "2023-07-31 10:32:27.900230: I tensorflow/compiler/xla/stream_executor/cuda/cuda_gpu_executor.cc:996] successful NUMA node read from SysFS had negative value (-1), but there must be at least one NUMA node, so returning NUMA node zero. See more at https://github.com/torvalds/linux/blob/v6.0/Documentation/ABI/testing/sysfs-bus-pci#L344-L355\n",
            "2023-07-31 10:32:27.900857: I tensorflow/compiler/xla/stream_executor/cuda/cuda_gpu_executor.cc:996] successful NUMA node read from SysFS had negative value (-1), but there must be at least one NUMA node, so returning NUMA node zero. See more at https://github.com/torvalds/linux/blob/v6.0/Documentation/ABI/testing/sysfs-bus-pci#L344-L355\n",
            "2023-07-31 10:32:27.901105: I tensorflow/compiler/xla/stream_executor/cuda/cuda_gpu_executor.cc:996] successful NUMA node read from SysFS had negative value (-1), but there must be at least one NUMA node, so returning NUMA node zero. See more at https://github.com/torvalds/linux/blob/v6.0/Documentation/ABI/testing/sysfs-bus-pci#L344-L355\n",
            "\u001b[2K     \u001b[90m━━━━━━━━━━━━━━━━━━━━━━━━━━━━━━━━━━━━━━━\u001b[0m \u001b[32m587.7/587.7 MB\u001b[0m \u001b[31m2.5 MB/s\u001b[0m eta \u001b[36m0:00:00\u001b[0m\n",
            "\u001b[?25h\u001b[38;5;2m✔ Download and installation successful\u001b[0m\n",
            "You can now load the package via spacy.load('en_core_web_lg')\n",
            "\u001b[2K     \u001b[90m━━━━━━━━━━━━━━━━━━━━━━━━━━━━━━━━━━━━━━━━\u001b[0m \u001b[32m42.9/42.9 kB\u001b[0m \u001b[31m1.2 MB/s\u001b[0m eta \u001b[36m0:00:00\u001b[0m\n",
            "\u001b[2K     \u001b[90m━━━━━━━━━━━━━━━━━━━━━━━━━━━━━━━━━━━━━━\u001b[0m \u001b[32m729.2/729.2 kB\u001b[0m \u001b[31m11.2 MB/s\u001b[0m eta \u001b[36m0:00:00\u001b[0m\n",
            "\u001b[?25h"
          ]
        }
      ],
      "source": [
        "!pip install -U portalocker>=2.0.0 -q\n",
        "!pip install -U spacy -q\n",
        "!python -m spacy download en_core_web_lg -q\n",
        "!pip install demoji -q\n",
        "!pip install torchmetrics[text] -q\n",
        "!pip install transformers>=4.0 -q"
      ]
    },
    {
      "cell_type": "markdown",
      "metadata": {},
      "source": [
        "Imports"
      ]
    },
    {
      "cell_type": "code",
      "execution_count": 3,
      "metadata": {
        "id": "cJnbpfe3Nsjp"
      },
      "outputs": [],
      "source": [
        "import json\n",
        "import torch\n",
        "from torchtext.data.utils import get_tokenizer\n",
        "from torchtext.vocab import build_vocab_from_iterator, vocab\n",
        "import torchtext.transforms as T\n",
        "from collections import Counter, OrderedDict\n",
        "from torch.utils.data import DataLoader\n",
        "from torch.nn.utils.rnn import pad_sequence\n",
        "from torch import Tensor\n",
        "import torch.nn as nn\n",
        "from torch.nn import Transformer\n",
        "from torch.hub import load_state_dict_from_url\n",
        "from torchtext.transforms import SentencePieceTokenizer, VocabTransform\n",
        "import math\n",
        "from typing import Iterable, List\n",
        "from timeit import default_timer as timer\n",
        "import demoji\n",
        "import re"
      ]
    },
    {
      "cell_type": "code",
      "execution_count": 1,
      "metadata": {
        "colab": {
          "base_uri": "https://localhost:8080/"
        },
        "id": "0CORUNe6czXX",
        "outputId": "ddf2b668-966f-4292-d450-f6c3294fcbfd"
      },
      "outputs": [
        {
          "name": "stdout",
          "output_type": "stream",
          "text": [
            "Mounted at /content/drive\n"
          ]
        }
      ],
      "source": [
        "from google.colab import drive\n",
        "drive.mount('/content/drive')"
      ]
    },
    {
      "cell_type": "markdown",
      "metadata": {},
      "source": [
        "Loading and preprocessing data. Remove emojis, file embeddings and \\r, \\n"
      ]
    },
    {
      "cell_type": "code",
      "execution_count": 4,
      "metadata": {
        "id": "G2dJiRUHNcc9"
      },
      "outputs": [],
      "source": [
        "#load samsum dataset\n",
        "def load(dataset, split):\n",
        "  with open(\"drive/MyDrive/\"+dataset+\"/\"+split+\".json\", \"r\") as f:\n",
        "    data = json.load(f)\n",
        "    return data"
      ]
    },
    {
      "cell_type": "code",
      "execution_count": 5,
      "metadata": {
        "id": "oU_NmeFAOOSP"
      },
      "outputs": [],
      "source": [
        "train = load(\"corpus\",\"train\")\n",
        "val = load(\"corpus\",\"val\")\n",
        "test = load(\"corpus\",\"test\")"
      ]
    },
    {
      "cell_type": "code",
      "execution_count": 6,
      "metadata": {
        "id": "Sqozdan7OeFP"
      },
      "outputs": [],
      "source": [
        "#preprocess to remove trailing carriage-return and newline\n",
        "def preprocess(dataset):\n",
        "  processed = []\n",
        "  for x in dataset:\n",
        "    processed.append({'summary' : re.sub(\"<[a-z]+_[a-z]+>\",\"\",demoji.replace(x['summary'].replace(\"\\r\",\"\").replace(\"\\n\",\" \"), '')), 'dialogue' : re.sub(\"<[a-z]+_[a-z]+>\",\"\",demoji.replace(x['dialogue'].replace(\"\\r\",\"\").replace(\"\\n\",\" \"), ''))})\n",
        "  return processed"
      ]
    },
    {
      "cell_type": "code",
      "execution_count": 7,
      "metadata": {
        "id": "94S_BJPMRDiB"
      },
      "outputs": [],
      "source": [
        "train_pp_sent = preprocess(train)\n",
        "val_pp_sent = preprocess(val)\n",
        "test_pp_sent = preprocess(test)"
      ]
    },
    {
      "cell_type": "markdown",
      "metadata": {},
      "source": [
        "Instatiate Spacy english word tokenizer for tokennization and determine the vocabulary in the corpus"
      ]
    },
    {
      "cell_type": "code",
      "execution_count": 8,
      "metadata": {
        "colab": {
          "base_uri": "https://localhost:8080/"
        },
        "id": "kMWd7FOArNAT",
        "outputId": "1105958c-3a4d-480c-cc0f-d691be56d38a"
      },
      "outputs": [
        {
          "data": {
            "text/plain": [
              "38059"
            ]
          },
          "execution_count": 8,
          "metadata": {},
          "output_type": "execute_result"
        }
      ],
      "source": [
        "#define tokenizer\n",
        "tokenizer = get_tokenizer('spacy', language='en_core_web_lg')\n",
        "\n",
        "# Define special symbols and indices\n",
        "UNK_IDX, PAD_IDX, BOS_IDX, EOS_IDX = 0, 1, 2, 3\n",
        "# Make sure the tokens are in order of their indices to properly insert them in vocab\n",
        "special_symbols = ['<unk>', '<pad>', '<bos>', '<eos>']\n",
        "\n",
        "# tokenize the whole train dataset\n",
        "full_text = []\n",
        "for x in train_pp_sent:\n",
        "  for _, v in x.items():\n",
        "    for t in tokenizer(v):\n",
        "      full_text.append(t)\n",
        "\n",
        "# determine token frequencies\n",
        "counter = Counter(full_text)\n",
        "\n",
        "# sort tokens based on frequency\n",
        "sorted_by_freq_tuples = sorted(counter.items(), key=lambda x: x[1], reverse=True)\n",
        "\n",
        "# ordered dictionary of sorted tokens\n",
        "ordered_dict = OrderedDict(sorted_by_freq_tuples)\n",
        "\n",
        "# vocabulary\n",
        "v1 = vocab(ordered_dict, specials=special_symbols, special_first=True)\n",
        "v1.set_default_index(UNK_IDX)\n",
        "len(v1)"
      ]
    },
    {
      "cell_type": "markdown",
      "metadata": {},
      "source": [
        "Tokenized data"
      ]
    },
    {
      "cell_type": "code",
      "execution_count": 9,
      "metadata": {
        "id": "3N6S5tLdjnOo"
      },
      "outputs": [],
      "source": [
        "def tokenize(example):\n",
        "  tokens={}\n",
        "  for k,v in example.items():\n",
        "    tokens[k] = tokenizer(v)\n",
        "  return tokens\n",
        "train_pp = list(map(tokenize, train_pp_sent))\n",
        "val_pp = list(map(tokenize, val_pp_sent))\n",
        "test_pp = list(map(tokenize, test_pp_sent))"
      ]
    },
    {
      "cell_type": "markdown",
      "metadata": {},
      "source": [
        "Transformations to vectorice and add special tokens, (pad, bos, eos)"
      ]
    },
    {
      "cell_type": "code",
      "execution_count": 10,
      "metadata": {
        "colab": {
          "base_uri": "https://localhost:8080/"
        },
        "id": "9VnV5noewCkp",
        "outputId": "03e702f4-25d8-4ef8-c743-77c6af5ec57a"
      },
      "outputs": [
        {
          "data": {
            "text/plain": [
              "device(type='cuda')"
            ]
          },
          "execution_count": 10,
          "metadata": {},
          "output_type": "execute_result"
        }
      ],
      "source": [
        "padding_idx = 1\n",
        "bos_idx = 2\n",
        "eos_idx = 3\n",
        "src_max_seq_len = 256\n",
        "tgt_max_seq_len = 64\n",
        "\n",
        "src_text_transform = T.Sequential(\n",
        "    T.VocabTransform(v1),\n",
        "    T.Truncate(src_max_seq_len - 2),\n",
        "    T.AddToken(token=bos_idx, begin=True),\n",
        "    T.AddToken(token=eos_idx, begin=False),\n",
        "    T.ToTensor(padding_value=padding_idx),\n",
        "    T.PadTransform(max_length=src_max_seq_len, pad_value=padding_idx),\n",
        ")\n",
        "\n",
        "tgt_text_transform = T.Sequential(\n",
        "    T.VocabTransform(v1),\n",
        "    T.Truncate(tgt_max_seq_len - 2),\n",
        "    T.AddToken(token=bos_idx, begin=True),\n",
        "    T.AddToken(token=eos_idx, begin=False),\n",
        "    T.ToTensor(padding_value=padding_idx),\n",
        "    T.PadTransform(max_length=tgt_max_seq_len, pad_value=padding_idx),\n",
        ")\n",
        "\n",
        "DEVICE = torch.device('cuda' if torch.cuda.is_available() else 'cpu')\n",
        "DEVICE"
      ]
    },
    {
      "cell_type": "markdown",
      "metadata": {},
      "source": [
        "Utility functions to generate masks for pad tokens and masks for self attention in the decoder."
      ]
    },
    {
      "cell_type": "code",
      "execution_count": 11,
      "metadata": {
        "id": "jfYwPw4vuxGy"
      },
      "outputs": [],
      "source": [
        "# function to create the target mask, to avoid peeking at subsequent tokens in the decoder self-attention stage.\n",
        "# sz is the maximum length sequence in the batch.\n",
        "# future token indices are filled with -inf and past token indices with 0. Binarized through exponentiation.\n",
        "def generate_square_subsequent_mask(sz):\n",
        "    mask = (torch.triu(torch.ones((sz, sz), device=DEVICE)) == 1).transpose(0, 1)\n",
        "    mask = mask.float().masked_fill(mask == 0, float('-inf')).masked_fill(mask == 1, float(0.0))\n",
        "    return mask\n",
        "\n",
        "# function returns source mask, target mask, source_padding_mask and target_padding_mask\n",
        "# src - dialogue/text\n",
        "# tgt - summary\n",
        "def create_mask(src, tgt):\n",
        "    src_seq_len = src.shape[0]\n",
        "    tgt_seq_len = tgt.shape[0]\n",
        "\n",
        "    tgt_mask = generate_square_subsequent_mask(tgt_seq_len)\n",
        "    src_mask = torch.zeros((src_seq_len, src_seq_len),device=DEVICE).type(torch.bool)\n",
        "\n",
        "    src_padding_mask = (src == PAD_IDX).transpose(0, 1)\n",
        "    tgt_padding_mask = (tgt == PAD_IDX).transpose(0, 1)\n",
        "    return src_mask, tgt_mask, src_padding_mask, tgt_padding_mask"
      ]
    },
    {
      "cell_type": "markdown",
      "metadata": {
        "id": "jxjwnKfJxh7o"
      },
      "source": [
        "![image.png](data:image/png;base64,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)"
      ]
    },
    {
      "cell_type": "markdown",
      "metadata": {},
      "source": [
        "Define the transformer network with  a positional embedding and token embedding layer and a linear generator to generate sequences"
      ]
    },
    {
      "cell_type": "code",
      "execution_count": 12,
      "metadata": {
        "id": "gG-uBTufxESB"
      },
      "outputs": [],
      "source": [
        "# helper Module that adds positional encoding to the token embedding to introduce a notion of word order.\n",
        "#\n",
        "class PositionalEncoding(nn.Module):\n",
        "    def __init__(self,\n",
        "                 emb_size: int,\n",
        "                 dropout: float,\n",
        "                 maxlen: int = 256):\n",
        "        super(PositionalEncoding, self).__init__()\n",
        "        den = torch.exp(- torch.arange(0, emb_size, 2)* math.log(10000) / emb_size) # denominator.\n",
        "        pos = torch.arange(0, maxlen).reshape(maxlen, 1)\n",
        "        pos_embedding = torch.zeros((maxlen, emb_size))\n",
        "        pos_embedding[:, 0::2] = torch.sin(pos * den)\n",
        "        pos_embedding[:, 1::2] = torch.cos(pos * den)\n",
        "        pos_embedding = pos_embedding.unsqueeze(-2)\n",
        "\n",
        "        self.dropout = nn.Dropout(dropout)\n",
        "        self.register_buffer('pos_embedding', pos_embedding)\n",
        "\n",
        "    def forward(self, token_embedding: Tensor):\n",
        "        return self.dropout(token_embedding + self.pos_embedding[:token_embedding.size(0), :])\n",
        "\n",
        "# helper Module to convert tensor of input indices into corresponding tensor of token embeddings\n",
        "class TokenEmbedding(nn.Module):\n",
        "    def __init__(self, vocab_size: int, emb_size):\n",
        "        super(TokenEmbedding, self).__init__()\n",
        "        self.embedding = nn.Embedding(vocab_size, emb_size)\n",
        "        self.emb_size = emb_size\n",
        "\n",
        "    def forward(self, tokens: Tensor):\n",
        "        return self.embedding(tokens.long()) * math.sqrt(self.emb_size)\n",
        "\n",
        "# Seq2Seq Network\n",
        "class Seq2SeqTransformer(nn.Module):\n",
        "    def __init__(self,\n",
        "                 num_encoder_layers: int,\n",
        "                 num_decoder_layers: int,\n",
        "                 emb_size: int,\n",
        "                 nhead: int,\n",
        "                 vocab_size: int,\n",
        "                 dim_feedforward: int = 512,\n",
        "                 dropout: float = 0.1):\n",
        "        super(Seq2SeqTransformer, self).__init__()\n",
        "        self.transformer = Transformer(d_model=emb_size,\n",
        "                                       nhead=nhead,\n",
        "                                       num_encoder_layers=num_encoder_layers,\n",
        "                                       num_decoder_layers=num_decoder_layers,\n",
        "                                       dim_feedforward=dim_feedforward,\n",
        "                                       dropout=dropout)\n",
        "        self.generator = nn.Linear(emb_size, vocab_size)\n",
        "        self.tok_emb = TokenEmbedding(vocab_size, emb_size)\n",
        "        self.positional_encoding = PositionalEncoding(\n",
        "            emb_size, dropout=dropout)\n",
        "\n",
        "    def forward(self,\n",
        "                src: Tensor,\n",
        "                trg: Tensor,\n",
        "                src_mask: Tensor,\n",
        "                tgt_mask: Tensor,\n",
        "                src_padding_mask: Tensor,\n",
        "                tgt_padding_mask: Tensor,\n",
        "                memory_key_padding_mask: Tensor):\n",
        "        src_emb = self.positional_encoding(self.tok_emb(src))\n",
        "        tgt_emb = self.positional_encoding(self.tok_emb(trg))\n",
        "        outs = self.transformer(src_emb, tgt_emb, src_mask, tgt_mask, None,\n",
        "                                src_padding_mask, tgt_padding_mask, memory_key_padding_mask)\n",
        "        return self.generator(outs)\n",
        "\n",
        "    def encode(self, src: Tensor, src_mask: Tensor):\n",
        "        return self.transformer.encoder(self.positional_encoding(\n",
        "                            self.tok_emb(src)), src_mask)\n",
        "\n",
        "    def decode(self, tgt: Tensor, memory: Tensor, tgt_mask: Tensor):\n",
        "        return self.transformer.decoder(self.positional_encoding(\n",
        "                          self.tok_emb(tgt)), memory,\n",
        "                          tgt_mask)"
      ]
    },
    {
      "cell_type": "markdown",
      "metadata": {},
      "source": [
        "Define model parameters, hyperparameters, loss function, optimizer and a collate function for the data collator"
      ]
    },
    {
      "cell_type": "code",
      "execution_count": 13,
      "metadata": {
        "id": "rqK5BbzUx8Hq"
      },
      "outputs": [],
      "source": [
        "# reproducibility seed\n",
        "torch.manual_seed(0)\n",
        "# tokens in vocabulary\n",
        "VOCAB_SIZE = len(v1.vocab)\n",
        "# token embedding dimension\n",
        "EMB_SIZE = 256\n",
        "# multi-heads in transformer\n",
        "NHEAD = 4\n",
        "# hidden forward network input dims\n",
        "FFN_HID_DIM = 512\n",
        "# batch size\n",
        "BATCH_SIZE = 48\n",
        "# encoder and decoder layers in transformer\n",
        "NUM_ENCODER_LAYERS = 2\n",
        "NUM_DECODER_LAYERS = 2\n",
        "\n",
        "# seq2seq model init\n",
        "transformer = Seq2SeqTransformer(NUM_ENCODER_LAYERS, NUM_DECODER_LAYERS, EMB_SIZE,\n",
        "                                 NHEAD, VOCAB_SIZE, FFN_HID_DIM)\n",
        "\n",
        "# model parameter init\n",
        "for p in transformer.parameters():\n",
        "    if p.dim() > 1:\n",
        "        nn.init.xavier_uniform_(p)\n",
        "\n",
        "transformer = transformer.to(DEVICE)\n",
        "\n",
        "# loss function\n",
        "loss_fn = torch.nn.CrossEntropyLoss(ignore_index=PAD_IDX)\n",
        "\n",
        "#optimizer\n",
        "optimizer = torch.optim.Adam(transformer.parameters(), lr=0.0001)\n",
        "\n",
        "# function to collate data samples into batch tensors\n",
        "def collate_fn(batch):\n",
        "    dialogues = [x['dialogue'] for x in batch]\n",
        "    summaries = [x['summary'] for x in batch]\n",
        "    return src_text_transform(dialogues).transpose(0,1), tgt_text_transform(summaries).transpose(0,1)"
      ]
    },
    {
      "cell_type": "markdown",
      "metadata": {},
      "source": [
        "Train and Eval logic"
      ]
    },
    {
      "cell_type": "code",
      "execution_count": 14,
      "metadata": {
        "id": "jFMz3FqvzXXc"
      },
      "outputs": [],
      "source": [
        "def train_epoch(model, optimizer):\n",
        "    model.train()\n",
        "    losses = 0\n",
        "    train_dataloader = DataLoader(train_pp, batch_size=BATCH_SIZE, collate_fn=collate_fn)\n",
        "\n",
        "    for src, tgt in train_dataloader:\n",
        "        src = src.to(DEVICE)\n",
        "        tgt = tgt.to(DEVICE)\n",
        "        # print(src.shape, tgt.shape)\n",
        "        # print(src, tgt)\n",
        "        tgt_input = tgt[:-1, :]\n",
        "        # print(tgt_input.shape)\n",
        "        # break\n",
        "        src_mask, tgt_mask, src_padding_mask, tgt_padding_mask = create_mask(src, tgt_input)\n",
        "\n",
        "        logits = model(src, tgt_input, src_mask, tgt_mask,src_padding_mask, tgt_padding_mask, src_padding_mask)\n",
        "\n",
        "        optimizer.zero_grad()\n",
        "\n",
        "        tgt_out = tgt[1:, :]\n",
        "        # print(logits.shape,logits.reshape(-1,logits.shape[-1]).shape, tgt_out.reshape(-1).shape)\n",
        "        # break\n",
        "        loss = loss_fn(logits.reshape(-1, logits.shape[-1]), tgt_out.reshape(-1))\n",
        "        loss.backward()\n",
        "        torch.nn.utils.clip_grad_norm_(model.parameters(), 0.1)\n",
        "        optimizer.step()\n",
        "        losses += loss.item()\n",
        "\n",
        "    return losses / len(list(train_dataloader))\n",
        "\n",
        "\n",
        "def evaluate(model):\n",
        "    model.eval()\n",
        "    losses = 0\n",
        "    val_dataloader = DataLoader(val_pp, batch_size=BATCH_SIZE, collate_fn=collate_fn)\n",
        "\n",
        "    for src, tgt in val_dataloader:\n",
        "        src = src.to(DEVICE)\n",
        "        tgt = tgt.to(DEVICE)\n",
        "\n",
        "        tgt_input = tgt[:-1, :]\n",
        "\n",
        "        src_mask, tgt_mask, src_padding_mask, tgt_padding_mask = create_mask(src, tgt_input)\n",
        "\n",
        "        logits = model(src, tgt_input, src_mask, tgt_mask,src_padding_mask, tgt_padding_mask, src_padding_mask)\n",
        "\n",
        "        tgt_out = tgt[1:, :]\n",
        "        loss = loss_fn(logits.reshape(-1, logits.shape[-1]), tgt_out.reshape(-1))\n",
        "        losses += loss.item()\n",
        "\n",
        "    return losses / len(list(val_dataloader))"
      ]
    },
    {
      "cell_type": "markdown",
      "metadata": {},
      "source": [
        "Utility functions for inference. "
      ]
    },
    {
      "cell_type": "code",
      "execution_count": 15,
      "metadata": {
        "id": "F2ny9ow633XK"
      },
      "outputs": [],
      "source": [
        "# function to generate output sequence using greedy algorithm\n",
        "def greedy_decode(model, src, src_mask, max_len, start_symbol):\n",
        "    src = src.to(DEVICE)\n",
        "    src_mask = src_mask.to(DEVICE)\n",
        "\n",
        "    memory = model.encode(src, src_mask)\n",
        "    # print(memory.shape)\n",
        "    ys = torch.ones(1, 1).fill_(start_symbol).type(torch.long).to(DEVICE)\n",
        "    # print(ys)\n",
        "    for i in range(max_len-1):\n",
        "        memory = memory.to(DEVICE)\n",
        "        tgt_mask = (generate_square_subsequent_mask(ys.size(0))\n",
        "                    .type(torch.bool)).to(DEVICE)\n",
        "        out = model.decode(ys, memory, tgt_mask)\n",
        "        out = out.transpose(0, 1)\n",
        "        prob = model.generator(out[:, -1])\n",
        "        _, next_word = torch.max(prob, dim=1)\n",
        "        next_word = next_word.item()\n",
        "\n",
        "        ys = torch.cat([ys,\n",
        "                        torch.ones(1, 1).type_as(src.data).fill_(next_word)], dim=0)\n",
        "        if next_word == EOS_IDX:\n",
        "            break\n",
        "    return ys\n",
        "\n",
        "\n",
        "# actual function to translate input sentence into target language\n",
        "def translate(model: torch.nn.Module, src_sentence: str):\n",
        "    model.eval()\n",
        "    src = src_text_transform(src_sentence).view(-1, 1)\n",
        "    num_tokens = src.shape[0]\n",
        "    src_mask = (torch.zeros(num_tokens, num_tokens)).type(torch.bool)\n",
        "    # print(src_mask)\n",
        "    tgt_tokens = greedy_decode(\n",
        "        model,  src, src_mask, max_len=tgt_max_seq_len, start_symbol=BOS_IDX).flatten()\n",
        "    return \" \".join(v1.lookup_tokens(list(tgt_tokens.cpu().numpy()))).replace(\"<bos>\", \"\").replace(\"<eos>\", \"\")"
      ]
    },
    {
      "cell_type": "markdown",
      "metadata": {},
      "source": [
        "Training loop"
      ]
    },
    {
      "cell_type": "code",
      "execution_count": 16,
      "metadata": {
        "colab": {
          "base_uri": "https://localhost:8080/"
        },
        "id": "zPmQ-KDtubVL",
        "outputId": "529969f6-46dc-4b4f-b2e6-983cf2c3539d"
      },
      "outputs": [
        {
          "name": "stderr",
          "output_type": "stream",
          "text": [
            "/usr/local/lib/python3.10/dist-packages/torch/nn/functional.py:4999: UserWarning: Support for mismatched key_padding_mask and attn_mask is deprecated. Use same type for both instead.\n",
            "  warnings.warn(\n",
            "/usr/local/lib/python3.10/dist-packages/torch/_jit_internal.py:1297: UserWarning: The inner type of a container is lost when calling torch.jit.isinstance in eager mode. For example, List[int] would become list and therefore falsely return True for List[float] or List[str].\n",
            "  warnings.warn(\n"
          ]
        },
        {
          "name": "stdout",
          "output_type": "stream",
          "text": [
            "Epoch: 1, Train loss: 7.423, Val loss: 6.135, Epoch time = 45.931s\n",
            "Epoch: 2, Train loss: 5.687, Val loss: 5.376, Epoch time = 43.472s\n",
            "Epoch: 3, Train loss: 5.173, Val loss: 5.137, Epoch time = 44.197s\n",
            "Epoch: 4, Train loss: 4.939, Val loss: 5.012, Epoch time = 44.678s\n",
            "{'summary': ['Ali', 'left', 'his', 'wallet', 'at', 'Mohammad', \"'s\", 'place', '.', \"Mohammad'll\", 'bring', 'it', 'to', 'uni', 'tomorrow', '.'], 'dialogue': ['Ali', ':', 'I', 'think', 'I', 'left', 'my', 'wallet', 'at', 'your', 'place', 'yesterday', '.', 'Could', 'you', 'check', '?', ' ', 'Mohammad', ':', 'Give', 'me', 'a', 'sec', ',', 'I', \"'ll\", 'have', 'a', 'look', 'around', 'my', 'room', '.', 'Ali', ':', 'OK', '.', 'Mohammad', ':', 'Found', 'it', '!', 'Ali', ':', 'Phew', ',', 'I', 'do', \"n't\", 'know', 'what', 'I', \"'d\", 'do', 'if', 'it', 'was', \"n't\", 'there', '.', 'Can', 'you', 'bring', 'it', 'to', 'uni', 'tomorrow', '?', 'Mohammad', ':', 'Sure', 'thing', '.']}\n",
            " The new new new new new new new new new new new new new new new new job . \n",
            "Epoch: 5, Train loss: 4.779, Val loss: 4.928, Epoch time = 45.156s\n",
            "Epoch: 6, Train loss: 4.648, Val loss: 4.873, Epoch time = 45.638s\n",
            "Epoch: 7, Train loss: 4.535, Val loss: 4.834, Epoch time = 45.434s\n",
            "Epoch: 8, Train loss: 4.430, Val loss: 4.811, Epoch time = 45.494s\n",
            "Epoch: 9, Train loss: 4.330, Val loss: 4.796, Epoch time = 45.575s\n",
            "{'summary': ['Ali', 'left', 'his', 'wallet', 'at', 'Mohammad', \"'s\", 'place', '.', \"Mohammad'll\", 'bring', 'it', 'to', 'uni', 'tomorrow', '.'], 'dialogue': ['Ali', ':', 'I', 'think', 'I', 'left', 'my', 'wallet', 'at', 'your', 'place', 'yesterday', '.', 'Could', 'you', 'check', '?', ' ', 'Mohammad', ':', 'Give', 'me', 'a', 'sec', ',', 'I', \"'ll\", 'have', 'a', 'look', 'around', 'my', 'room', '.', 'Ali', ':', 'OK', '.', 'Mohammad', ':', 'Found', 'it', '!', 'Ali', ':', 'Phew', ',', 'I', 'do', \"n't\", 'know', 'what', 'I', \"'d\", 'do', 'if', 'it', 'was', \"n't\", 'there', '.', 'Can', 'you', 'bring', 'it', 'to', 'uni', 'tomorrow', '?', 'Mohammad', ':', 'Sure', 'thing', '.']}\n",
            " The new job is going to a new job . She will be a lot of work in the end of the end of the end of the weekend . They will be a lot of people in the end of the end of the end of the end of people . \n",
            "Epoch: 10, Train loss: 4.240, Val loss: 4.787, Epoch time = 45.542s\n"
          ]
        }
      ],
      "source": [
        "NUM_EPOCHS = 10\n",
        "min_loss = 1000\n",
        "for epoch in range(1, NUM_EPOCHS+1):\n",
        "    start_time = timer()\n",
        "    train_loss = train_epoch(transformer, optimizer)\n",
        "    end_time = timer()\n",
        "    val_loss = evaluate(transformer)\n",
        "    if not epoch % 5:\n",
        "      print(test_pp[70])\n",
        "      print(translate(transformer, test_pp[70]['dialogue']))\n",
        "    if val_loss < min_loss:\n",
        "      min_loss = val_loss\n",
        "      torch.save({\n",
        "            'epoch': epoch,\n",
        "            'model_state_dict': transformer.state_dict(),\n",
        "            'optimizer_state_dict': optimizer.state_dict(),\n",
        "            'train_loss': train_loss,\n",
        "            'val_loss': val_loss\n",
        "            }, 'drive/MyDrive/checkpoints/eng_tok_latest.pth')\n",
        "    print((f\"Epoch: {epoch}, Train loss: {train_loss:.3f}, Val loss: {val_loss:.3f}, \"f\"Epoch time = {(end_time - start_time):.3f}s\"))"
      ]
    },
    {
      "cell_type": "markdown",
      "metadata": {},
      "source": [
        "Import metrics"
      ]
    },
    {
      "cell_type": "code",
      "execution_count": 17,
      "metadata": {
        "id": "INiWnMfjSBfS"
      },
      "outputs": [],
      "source": [
        "from torchmetrics.text.rouge import ROUGEScore\n",
        "from torchmetrics.text.bert import BERTScore\n",
        "from torchmetrics.text import BLEUScore"
      ]
    },
    {
      "cell_type": "markdown",
      "metadata": {},
      "source": [
        "Compute metrics on test data"
      ]
    },
    {
      "cell_type": "code",
      "execution_count": 18,
      "metadata": {
        "colab": {
          "base_uri": "https://localhost:8080/",
          "height": 270,
          "referenced_widgets": [
            "27528348622a49afa245678219856418",
            "b8b779f68f704594b0facbfdcf046fe5",
            "194ee537078f4f728d3cb82ac609a0b2",
            "5604dd232cfa4c11ae318a5d6010c04e",
            "c2dd567b618e44e586c74267999fb7cb",
            "3e3285087abf4641bd942b82967b612f",
            "704532253cf84d78974420097a0f8b52",
            "57a35c9ed91a4e61861b12917b9aa209",
            "175898d0d7c24dbcbaaf2cea04791eb8",
            "b75743d8aa0647a58d913116a80ca0f4",
            "69889d35bdff4fc591cd875e70614eae",
            "2af2f6709b064c61ad985f4af650bd8f",
            "c6c9d06c0701442bbfc2c48d7cd93cca",
            "408bfe0c97ab4ea78d293dc32cb5d8df",
            "870e38f3a24149a0b2c54e7156e2ce8e",
            "1e77c0cd47c34fa0bb1249af50ab2a34",
            "56997afc5a3d474bafb08dce9b087431",
            "5d4ca520962d4128bbc10183e3778cc6",
            "975246e33135408292c42e632ddce013",
            "acfea446faa543179170446ca06d5d9b",
            "4a97d60b3fcd463aaec75c3e842664f6",
            "9b2711b8aadc4ebaba2dceb81422638d",
            "08878e7f21e544d58757c3bac846840b",
            "14f708a96a80410f82d16d9883f6907e",
            "2ef60b456b674a3c89ee7ec08354789b",
            "14fea317e1584ec8a2a7d47ac47ec70b",
            "3577b2f99ea84bca8f21ce92379692c9",
            "cda10bef63ff49cfba5a51d7daa855ca",
            "012eac3ec94447a98105cf22b9e3a598",
            "cd20610309484d06bf3c9b86b4f7e59a",
            "0d166f42ba2b4f6b9ed16129b1e24384",
            "dc213e31ed8041619f163e238d02c8c6",
            "69e66a90b451493eb40c5de47b4bbe24",
            "4350b48ee7c447068ca11a0cef99e48c",
            "c43e0e86086441148c1c1102692f0710",
            "19a04842f6b049adb2902191329bdb58",
            "2dbb518d0ce047d2bc365aafe0ed2771",
            "d60751170d554f0faea095b68c87d7ba",
            "786420a997b841a9b7aa151bf72d1e33",
            "445a854a96b64331bd24d5579d326f13",
            "e5af337119204b05a0c7a96c8c56fa6e",
            "fd948469b5f24625bd868936800d2517",
            "6e3b631b2d6f41438f4260f60ef8bc72",
            "70161d23232a44ed89f2d665b5e0313e",
            "96a6567b194f40ccbe0cedfaa3d81589",
            "1324f633741c47d2ad8bf3691869007d",
            "4777bc9d8a7c4875b2aceb1b53f1d7e7",
            "027f5b9a88e14457b11d56ecac7a7bb8",
            "84b5be5c47c446ed84db46cd39ec12ec",
            "58bf51a43ac341f1ae51adf8d95ffef4",
            "ab91741bfe8146e2896d1c072baac79a",
            "24c2950cd5ac415a9ecf554f0c1c4566",
            "6c5c5d06047341919210a1fd12eba854",
            "b4da6c55ab7d4e639a9dae7dcea742d8",
            "82d965ba2afd4b8494d86c1ab55bfeb2"
          ]
        },
        "id": "AmJb3lUyr5SW",
        "outputId": "df56c4f9-918a-468a-ef65-c19a2bdb0b99"
      },
      "outputs": [
        {
          "name": "stderr",
          "output_type": "stream",
          "text": [
            "/usr/local/lib/python3.10/dist-packages/torchmetrics/utilities/prints.py:42: UserWarning: The argument `model_name_or_path` was not specified while it is required when the default `transformers` model is used. It will use the default recommended model - 'roberta-large'.\n",
            "  warnings.warn(*args, **kwargs)  # noqa: B028\n"
          ]
        },
        {
          "data": {
            "application/vnd.jupyter.widget-view+json": {
              "model_id": "27528348622a49afa245678219856418",
              "version_major": 2,
              "version_minor": 0
            },
            "text/plain": [
              "Downloading (…)lve/main/config.json:   0%|          | 0.00/482 [00:00<?, ?B/s]"
            ]
          },
          "metadata": {},
          "output_type": "display_data"
        },
        {
          "data": {
            "application/vnd.jupyter.widget-view+json": {
              "model_id": "2af2f6709b064c61ad985f4af650bd8f",
              "version_major": 2,
              "version_minor": 0
            },
            "text/plain": [
              "Downloading (…)olve/main/vocab.json:   0%|          | 0.00/899k [00:00<?, ?B/s]"
            ]
          },
          "metadata": {},
          "output_type": "display_data"
        },
        {
          "data": {
            "application/vnd.jupyter.widget-view+json": {
              "model_id": "08878e7f21e544d58757c3bac846840b",
              "version_major": 2,
              "version_minor": 0
            },
            "text/plain": [
              "Downloading (…)olve/main/merges.txt:   0%|          | 0.00/456k [00:00<?, ?B/s]"
            ]
          },
          "metadata": {},
          "output_type": "display_data"
        },
        {
          "data": {
            "application/vnd.jupyter.widget-view+json": {
              "model_id": "4350b48ee7c447068ca11a0cef99e48c",
              "version_major": 2,
              "version_minor": 0
            },
            "text/plain": [
              "Downloading (…)/main/tokenizer.json:   0%|          | 0.00/1.36M [00:00<?, ?B/s]"
            ]
          },
          "metadata": {},
          "output_type": "display_data"
        },
        {
          "data": {
            "application/vnd.jupyter.widget-view+json": {
              "model_id": "96a6567b194f40ccbe0cedfaa3d81589",
              "version_major": 2,
              "version_minor": 0
            },
            "text/plain": [
              "Downloading model.safetensors:   0%|          | 0.00/1.42G [00:00<?, ?B/s]"
            ]
          },
          "metadata": {},
          "output_type": "display_data"
        },
        {
          "name": "stderr",
          "output_type": "stream",
          "text": [
            "Some weights of RobertaModel were not initialized from the model checkpoint at roberta-large and are newly initialized: ['roberta.pooler.dense.weight', 'roberta.pooler.dense.bias']\n",
            "You should probably TRAIN this model on a down-stream task to be able to use it for predictions and inference.\n"
          ]
        }
      ],
      "source": [
        "targets = [x['summary'] for x in test_pp_sent]\n",
        "preds = [translate(transformer, x['dialogue']) for x in test_pp]\n",
        "# print([preds])\n",
        "# print([targets])\n",
        "rouge_score=ROUGEScore()\n",
        "bert_score = BERTScore()\n",
        "bleu_score = BLEUScore()\n",
        "# bleu = bleu_score(preds, targets)\n",
        "rouge = rouge_score(preds,targets)\n",
        "bert = bert_score(preds, targets)"
      ]
    },
    {
      "cell_type": "markdown",
      "metadata": {},
      "source": [
        "display metrics"
      ]
    },
    {
      "cell_type": "code",
      "execution_count": 19,
      "metadata": {
        "colab": {
          "base_uri": "https://localhost:8080/"
        },
        "id": "Gu6nRlQkwTgA",
        "outputId": "53214bbe-4286-4e93-d90c-cc954b6c8330"
      },
      "outputs": [
        {
          "name": "stdout",
          "output_type": "stream",
          "text": [
            "tensor(0.0075)\n"
          ]
        }
      ],
      "source": [
        "bleu_targets = [[x] for x in targets]\n",
        "bleu = bleu_score(preds, bleu_targets)\n",
        "print(bleu)"
      ]
    },
    {
      "cell_type": "code",
      "execution_count": 20,
      "metadata": {
        "colab": {
          "base_uri": "https://localhost:8080/"
        },
        "id": "Uw4EdRU6068c",
        "outputId": "5df462cb-0f00-439c-ae0c-7adf8f6cc6e6"
      },
      "outputs": [
        {
          "name": "stdout",
          "output_type": "stream",
          "text": [
            "{'rouge1_fmeasure': tensor(0.1416), 'rouge1_precision': tensor(0.1280), 'rouge1_recall': tensor(0.1891), 'rouge2_fmeasure': tensor(0.0198), 'rouge2_precision': tensor(0.0184), 'rouge2_recall': tensor(0.0254), 'rougeL_fmeasure': tensor(0.1171), 'rougeL_precision': tensor(0.1049), 'rougeL_recall': tensor(0.1590), 'rougeLsum_fmeasure': tensor(0.1310), 'rougeLsum_precision': tensor(0.1183), 'rougeLsum_recall': tensor(0.1755)}\n"
          ]
        }
      ],
      "source": [
        "print(rouge)"
      ]
    },
    {
      "cell_type": "code",
      "execution_count": 22,
      "metadata": {
        "colab": {
          "base_uri": "https://localhost:8080/"
        },
        "id": "AGr9_X4-9fmd",
        "outputId": "b36cf57f-5bbd-4bb6-bc35-839b62f96e17"
      },
      "outputs": [
        {
          "data": {
            "text/plain": [
              "{'precision': tensor(0.9702), 'recall': tensor(0.9690), 'f1': tensor(0.9696)}"
            ]
          },
          "execution_count": 22,
          "metadata": {},
          "output_type": "execute_result"
        }
      ],
      "source": [
        "bert = {k:v.mean() for k,v in bert.items()}\n",
        "bert"
      ]
    },
    {
      "cell_type": "code",
      "execution_count": null,
      "metadata": {
        "id": "eUFqJ9ncI_mk"
      },
      "outputs": [],
      "source": []
    }
  ],
  "metadata": {
    "accelerator": "GPU",
    "colab": {
      "provenance": []
    },
    "kernelspec": {
      "display_name": "Python 3",
      "name": "python3"
    },
    "language_info": {
      "name": "python"
    },
    "widgets": {
      "application/vnd.jupyter.widget-state+json": {
        "012eac3ec94447a98105cf22b9e3a598": {
          "model_module": "@jupyter-widgets/controls",
          "model_module_version": "1.5.0",
          "model_name": "DescriptionStyleModel",
          "state": {
            "_model_module": "@jupyter-widgets/controls",
            "_model_module_version": "1.5.0",
            "_model_name": "DescriptionStyleModel",
            "_view_count": null,
            "_view_module": "@jupyter-widgets/base",
            "_view_module_version": "1.2.0",
            "_view_name": "StyleView",
            "description_width": ""
          }
        },
        "027f5b9a88e14457b11d56ecac7a7bb8": {
          "model_module": "@jupyter-widgets/controls",
          "model_module_version": "1.5.0",
          "model_name": "HTMLModel",
          "state": {
            "_dom_classes": [],
            "_model_module": "@jupyter-widgets/controls",
            "_model_module_version": "1.5.0",
            "_model_name": "HTMLModel",
            "_view_count": null,
            "_view_module": "@jupyter-widgets/controls",
            "_view_module_version": "1.5.0",
            "_view_name": "HTMLView",
            "description": "",
            "description_tooltip": null,
            "layout": "IPY_MODEL_b4da6c55ab7d4e639a9dae7dcea742d8",
            "placeholder": "​",
            "style": "IPY_MODEL_82d965ba2afd4b8494d86c1ab55bfeb2",
            "value": " 1.42G/1.42G [00:07&lt;00:00, 106MB/s]"
          }
        },
        "08878e7f21e544d58757c3bac846840b": {
          "model_module": "@jupyter-widgets/controls",
          "model_module_version": "1.5.0",
          "model_name": "HBoxModel",
          "state": {
            "_dom_classes": [],
            "_model_module": "@jupyter-widgets/controls",
            "_model_module_version": "1.5.0",
            "_model_name": "HBoxModel",
            "_view_count": null,
            "_view_module": "@jupyter-widgets/controls",
            "_view_module_version": "1.5.0",
            "_view_name": "HBoxView",
            "box_style": "",
            "children": [
              "IPY_MODEL_14f708a96a80410f82d16d9883f6907e",
              "IPY_MODEL_2ef60b456b674a3c89ee7ec08354789b",
              "IPY_MODEL_14fea317e1584ec8a2a7d47ac47ec70b"
            ],
            "layout": "IPY_MODEL_3577b2f99ea84bca8f21ce92379692c9"
          }
        },
        "0d166f42ba2b4f6b9ed16129b1e24384": {
          "model_module": "@jupyter-widgets/controls",
          "model_module_version": "1.5.0",
          "model_name": "ProgressStyleModel",
          "state": {
            "_model_module": "@jupyter-widgets/controls",
            "_model_module_version": "1.5.0",
            "_model_name": "ProgressStyleModel",
            "_view_count": null,
            "_view_module": "@jupyter-widgets/base",
            "_view_module_version": "1.2.0",
            "_view_name": "StyleView",
            "bar_color": null,
            "description_width": ""
          }
        },
        "1324f633741c47d2ad8bf3691869007d": {
          "model_module": "@jupyter-widgets/controls",
          "model_module_version": "1.5.0",
          "model_name": "HTMLModel",
          "state": {
            "_dom_classes": [],
            "_model_module": "@jupyter-widgets/controls",
            "_model_module_version": "1.5.0",
            "_model_name": "HTMLModel",
            "_view_count": null,
            "_view_module": "@jupyter-widgets/controls",
            "_view_module_version": "1.5.0",
            "_view_name": "HTMLView",
            "description": "",
            "description_tooltip": null,
            "layout": "IPY_MODEL_58bf51a43ac341f1ae51adf8d95ffef4",
            "placeholder": "​",
            "style": "IPY_MODEL_ab91741bfe8146e2896d1c072baac79a",
            "value": "Downloading model.safetensors: 100%"
          }
        },
        "14f708a96a80410f82d16d9883f6907e": {
          "model_module": "@jupyter-widgets/controls",
          "model_module_version": "1.5.0",
          "model_name": "HTMLModel",
          "state": {
            "_dom_classes": [],
            "_model_module": "@jupyter-widgets/controls",
            "_model_module_version": "1.5.0",
            "_model_name": "HTMLModel",
            "_view_count": null,
            "_view_module": "@jupyter-widgets/controls",
            "_view_module_version": "1.5.0",
            "_view_name": "HTMLView",
            "description": "",
            "description_tooltip": null,
            "layout": "IPY_MODEL_cda10bef63ff49cfba5a51d7daa855ca",
            "placeholder": "​",
            "style": "IPY_MODEL_012eac3ec94447a98105cf22b9e3a598",
            "value": "Downloading (…)olve/main/merges.txt: 100%"
          }
        },
        "14fea317e1584ec8a2a7d47ac47ec70b": {
          "model_module": "@jupyter-widgets/controls",
          "model_module_version": "1.5.0",
          "model_name": "HTMLModel",
          "state": {
            "_dom_classes": [],
            "_model_module": "@jupyter-widgets/controls",
            "_model_module_version": "1.5.0",
            "_model_name": "HTMLModel",
            "_view_count": null,
            "_view_module": "@jupyter-widgets/controls",
            "_view_module_version": "1.5.0",
            "_view_name": "HTMLView",
            "description": "",
            "description_tooltip": null,
            "layout": "IPY_MODEL_dc213e31ed8041619f163e238d02c8c6",
            "placeholder": "​",
            "style": "IPY_MODEL_69e66a90b451493eb40c5de47b4bbe24",
            "value": " 456k/456k [00:00&lt;00:00, 23.1MB/s]"
          }
        },
        "175898d0d7c24dbcbaaf2cea04791eb8": {
          "model_module": "@jupyter-widgets/controls",
          "model_module_version": "1.5.0",
          "model_name": "ProgressStyleModel",
          "state": {
            "_model_module": "@jupyter-widgets/controls",
            "_model_module_version": "1.5.0",
            "_model_name": "ProgressStyleModel",
            "_view_count": null,
            "_view_module": "@jupyter-widgets/base",
            "_view_module_version": "1.2.0",
            "_view_name": "StyleView",
            "bar_color": null,
            "description_width": ""
          }
        },
        "194ee537078f4f728d3cb82ac609a0b2": {
          "model_module": "@jupyter-widgets/controls",
          "model_module_version": "1.5.0",
          "model_name": "FloatProgressModel",
          "state": {
            "_dom_classes": [],
            "_model_module": "@jupyter-widgets/controls",
            "_model_module_version": "1.5.0",
            "_model_name": "FloatProgressModel",
            "_view_count": null,
            "_view_module": "@jupyter-widgets/controls",
            "_view_module_version": "1.5.0",
            "_view_name": "ProgressView",
            "bar_style": "success",
            "description": "",
            "description_tooltip": null,
            "layout": "IPY_MODEL_57a35c9ed91a4e61861b12917b9aa209",
            "max": 482,
            "min": 0,
            "orientation": "horizontal",
            "style": "IPY_MODEL_175898d0d7c24dbcbaaf2cea04791eb8",
            "value": 482
          }
        },
        "19a04842f6b049adb2902191329bdb58": {
          "model_module": "@jupyter-widgets/controls",
          "model_module_version": "1.5.0",
          "model_name": "FloatProgressModel",
          "state": {
            "_dom_classes": [],
            "_model_module": "@jupyter-widgets/controls",
            "_model_module_version": "1.5.0",
            "_model_name": "FloatProgressModel",
            "_view_count": null,
            "_view_module": "@jupyter-widgets/controls",
            "_view_module_version": "1.5.0",
            "_view_name": "ProgressView",
            "bar_style": "success",
            "description": "",
            "description_tooltip": null,
            "layout": "IPY_MODEL_e5af337119204b05a0c7a96c8c56fa6e",
            "max": 1355863,
            "min": 0,
            "orientation": "horizontal",
            "style": "IPY_MODEL_fd948469b5f24625bd868936800d2517",
            "value": 1355863
          }
        },
        "1e77c0cd47c34fa0bb1249af50ab2a34": {
          "model_module": "@jupyter-widgets/base",
          "model_module_version": "1.2.0",
          "model_name": "LayoutModel",
          "state": {
            "_model_module": "@jupyter-widgets/base",
            "_model_module_version": "1.2.0",
            "_model_name": "LayoutModel",
            "_view_count": null,
            "_view_module": "@jupyter-widgets/base",
            "_view_module_version": "1.2.0",
            "_view_name": "LayoutView",
            "align_content": null,
            "align_items": null,
            "align_self": null,
            "border": null,
            "bottom": null,
            "display": null,
            "flex": null,
            "flex_flow": null,
            "grid_area": null,
            "grid_auto_columns": null,
            "grid_auto_flow": null,
            "grid_auto_rows": null,
            "grid_column": null,
            "grid_gap": null,
            "grid_row": null,
            "grid_template_areas": null,
            "grid_template_columns": null,
            "grid_template_rows": null,
            "height": null,
            "justify_content": null,
            "justify_items": null,
            "left": null,
            "margin": null,
            "max_height": null,
            "max_width": null,
            "min_height": null,
            "min_width": null,
            "object_fit": null,
            "object_position": null,
            "order": null,
            "overflow": null,
            "overflow_x": null,
            "overflow_y": null,
            "padding": null,
            "right": null,
            "top": null,
            "visibility": null,
            "width": null
          }
        },
        "24c2950cd5ac415a9ecf554f0c1c4566": {
          "model_module": "@jupyter-widgets/base",
          "model_module_version": "1.2.0",
          "model_name": "LayoutModel",
          "state": {
            "_model_module": "@jupyter-widgets/base",
            "_model_module_version": "1.2.0",
            "_model_name": "LayoutModel",
            "_view_count": null,
            "_view_module": "@jupyter-widgets/base",
            "_view_module_version": "1.2.0",
            "_view_name": "LayoutView",
            "align_content": null,
            "align_items": null,
            "align_self": null,
            "border": null,
            "bottom": null,
            "display": null,
            "flex": null,
            "flex_flow": null,
            "grid_area": null,
            "grid_auto_columns": null,
            "grid_auto_flow": null,
            "grid_auto_rows": null,
            "grid_column": null,
            "grid_gap": null,
            "grid_row": null,
            "grid_template_areas": null,
            "grid_template_columns": null,
            "grid_template_rows": null,
            "height": null,
            "justify_content": null,
            "justify_items": null,
            "left": null,
            "margin": null,
            "max_height": null,
            "max_width": null,
            "min_height": null,
            "min_width": null,
            "object_fit": null,
            "object_position": null,
            "order": null,
            "overflow": null,
            "overflow_x": null,
            "overflow_y": null,
            "padding": null,
            "right": null,
            "top": null,
            "visibility": null,
            "width": null
          }
        },
        "27528348622a49afa245678219856418": {
          "model_module": "@jupyter-widgets/controls",
          "model_module_version": "1.5.0",
          "model_name": "HBoxModel",
          "state": {
            "_dom_classes": [],
            "_model_module": "@jupyter-widgets/controls",
            "_model_module_version": "1.5.0",
            "_model_name": "HBoxModel",
            "_view_count": null,
            "_view_module": "@jupyter-widgets/controls",
            "_view_module_version": "1.5.0",
            "_view_name": "HBoxView",
            "box_style": "",
            "children": [
              "IPY_MODEL_b8b779f68f704594b0facbfdcf046fe5",
              "IPY_MODEL_194ee537078f4f728d3cb82ac609a0b2",
              "IPY_MODEL_5604dd232cfa4c11ae318a5d6010c04e"
            ],
            "layout": "IPY_MODEL_c2dd567b618e44e586c74267999fb7cb"
          }
        },
        "2af2f6709b064c61ad985f4af650bd8f": {
          "model_module": "@jupyter-widgets/controls",
          "model_module_version": "1.5.0",
          "model_name": "HBoxModel",
          "state": {
            "_dom_classes": [],
            "_model_module": "@jupyter-widgets/controls",
            "_model_module_version": "1.5.0",
            "_model_name": "HBoxModel",
            "_view_count": null,
            "_view_module": "@jupyter-widgets/controls",
            "_view_module_version": "1.5.0",
            "_view_name": "HBoxView",
            "box_style": "",
            "children": [
              "IPY_MODEL_c6c9d06c0701442bbfc2c48d7cd93cca",
              "IPY_MODEL_408bfe0c97ab4ea78d293dc32cb5d8df",
              "IPY_MODEL_870e38f3a24149a0b2c54e7156e2ce8e"
            ],
            "layout": "IPY_MODEL_1e77c0cd47c34fa0bb1249af50ab2a34"
          }
        },
        "2dbb518d0ce047d2bc365aafe0ed2771": {
          "model_module": "@jupyter-widgets/controls",
          "model_module_version": "1.5.0",
          "model_name": "HTMLModel",
          "state": {
            "_dom_classes": [],
            "_model_module": "@jupyter-widgets/controls",
            "_model_module_version": "1.5.0",
            "_model_name": "HTMLModel",
            "_view_count": null,
            "_view_module": "@jupyter-widgets/controls",
            "_view_module_version": "1.5.0",
            "_view_name": "HTMLView",
            "description": "",
            "description_tooltip": null,
            "layout": "IPY_MODEL_6e3b631b2d6f41438f4260f60ef8bc72",
            "placeholder": "​",
            "style": "IPY_MODEL_70161d23232a44ed89f2d665b5e0313e",
            "value": " 1.36M/1.36M [00:01&lt;00:00, 1.30MB/s]"
          }
        },
        "2ef60b456b674a3c89ee7ec08354789b": {
          "model_module": "@jupyter-widgets/controls",
          "model_module_version": "1.5.0",
          "model_name": "FloatProgressModel",
          "state": {
            "_dom_classes": [],
            "_model_module": "@jupyter-widgets/controls",
            "_model_module_version": "1.5.0",
            "_model_name": "FloatProgressModel",
            "_view_count": null,
            "_view_module": "@jupyter-widgets/controls",
            "_view_module_version": "1.5.0",
            "_view_name": "ProgressView",
            "bar_style": "success",
            "description": "",
            "description_tooltip": null,
            "layout": "IPY_MODEL_cd20610309484d06bf3c9b86b4f7e59a",
            "max": 456318,
            "min": 0,
            "orientation": "horizontal",
            "style": "IPY_MODEL_0d166f42ba2b4f6b9ed16129b1e24384",
            "value": 456318
          }
        },
        "3577b2f99ea84bca8f21ce92379692c9": {
          "model_module": "@jupyter-widgets/base",
          "model_module_version": "1.2.0",
          "model_name": "LayoutModel",
          "state": {
            "_model_module": "@jupyter-widgets/base",
            "_model_module_version": "1.2.0",
            "_model_name": "LayoutModel",
            "_view_count": null,
            "_view_module": "@jupyter-widgets/base",
            "_view_module_version": "1.2.0",
            "_view_name": "LayoutView",
            "align_content": null,
            "align_items": null,
            "align_self": null,
            "border": null,
            "bottom": null,
            "display": null,
            "flex": null,
            "flex_flow": null,
            "grid_area": null,
            "grid_auto_columns": null,
            "grid_auto_flow": null,
            "grid_auto_rows": null,
            "grid_column": null,
            "grid_gap": null,
            "grid_row": null,
            "grid_template_areas": null,
            "grid_template_columns": null,
            "grid_template_rows": null,
            "height": null,
            "justify_content": null,
            "justify_items": null,
            "left": null,
            "margin": null,
            "max_height": null,
            "max_width": null,
            "min_height": null,
            "min_width": null,
            "object_fit": null,
            "object_position": null,
            "order": null,
            "overflow": null,
            "overflow_x": null,
            "overflow_y": null,
            "padding": null,
            "right": null,
            "top": null,
            "visibility": null,
            "width": null
          }
        },
        "3e3285087abf4641bd942b82967b612f": {
          "model_module": "@jupyter-widgets/base",
          "model_module_version": "1.2.0",
          "model_name": "LayoutModel",
          "state": {
            "_model_module": "@jupyter-widgets/base",
            "_model_module_version": "1.2.0",
            "_model_name": "LayoutModel",
            "_view_count": null,
            "_view_module": "@jupyter-widgets/base",
            "_view_module_version": "1.2.0",
            "_view_name": "LayoutView",
            "align_content": null,
            "align_items": null,
            "align_self": null,
            "border": null,
            "bottom": null,
            "display": null,
            "flex": null,
            "flex_flow": null,
            "grid_area": null,
            "grid_auto_columns": null,
            "grid_auto_flow": null,
            "grid_auto_rows": null,
            "grid_column": null,
            "grid_gap": null,
            "grid_row": null,
            "grid_template_areas": null,
            "grid_template_columns": null,
            "grid_template_rows": null,
            "height": null,
            "justify_content": null,
            "justify_items": null,
            "left": null,
            "margin": null,
            "max_height": null,
            "max_width": null,
            "min_height": null,
            "min_width": null,
            "object_fit": null,
            "object_position": null,
            "order": null,
            "overflow": null,
            "overflow_x": null,
            "overflow_y": null,
            "padding": null,
            "right": null,
            "top": null,
            "visibility": null,
            "width": null
          }
        },
        "408bfe0c97ab4ea78d293dc32cb5d8df": {
          "model_module": "@jupyter-widgets/controls",
          "model_module_version": "1.5.0",
          "model_name": "FloatProgressModel",
          "state": {
            "_dom_classes": [],
            "_model_module": "@jupyter-widgets/controls",
            "_model_module_version": "1.5.0",
            "_model_name": "FloatProgressModel",
            "_view_count": null,
            "_view_module": "@jupyter-widgets/controls",
            "_view_module_version": "1.5.0",
            "_view_name": "ProgressView",
            "bar_style": "success",
            "description": "",
            "description_tooltip": null,
            "layout": "IPY_MODEL_975246e33135408292c42e632ddce013",
            "max": 898823,
            "min": 0,
            "orientation": "horizontal",
            "style": "IPY_MODEL_acfea446faa543179170446ca06d5d9b",
            "value": 898823
          }
        },
        "4350b48ee7c447068ca11a0cef99e48c": {
          "model_module": "@jupyter-widgets/controls",
          "model_module_version": "1.5.0",
          "model_name": "HBoxModel",
          "state": {
            "_dom_classes": [],
            "_model_module": "@jupyter-widgets/controls",
            "_model_module_version": "1.5.0",
            "_model_name": "HBoxModel",
            "_view_count": null,
            "_view_module": "@jupyter-widgets/controls",
            "_view_module_version": "1.5.0",
            "_view_name": "HBoxView",
            "box_style": "",
            "children": [
              "IPY_MODEL_c43e0e86086441148c1c1102692f0710",
              "IPY_MODEL_19a04842f6b049adb2902191329bdb58",
              "IPY_MODEL_2dbb518d0ce047d2bc365aafe0ed2771"
            ],
            "layout": "IPY_MODEL_d60751170d554f0faea095b68c87d7ba"
          }
        },
        "445a854a96b64331bd24d5579d326f13": {
          "model_module": "@jupyter-widgets/controls",
          "model_module_version": "1.5.0",
          "model_name": "DescriptionStyleModel",
          "state": {
            "_model_module": "@jupyter-widgets/controls",
            "_model_module_version": "1.5.0",
            "_model_name": "DescriptionStyleModel",
            "_view_count": null,
            "_view_module": "@jupyter-widgets/base",
            "_view_module_version": "1.2.0",
            "_view_name": "StyleView",
            "description_width": ""
          }
        },
        "4777bc9d8a7c4875b2aceb1b53f1d7e7": {
          "model_module": "@jupyter-widgets/controls",
          "model_module_version": "1.5.0",
          "model_name": "FloatProgressModel",
          "state": {
            "_dom_classes": [],
            "_model_module": "@jupyter-widgets/controls",
            "_model_module_version": "1.5.0",
            "_model_name": "FloatProgressModel",
            "_view_count": null,
            "_view_module": "@jupyter-widgets/controls",
            "_view_module_version": "1.5.0",
            "_view_name": "ProgressView",
            "bar_style": "success",
            "description": "",
            "description_tooltip": null,
            "layout": "IPY_MODEL_24c2950cd5ac415a9ecf554f0c1c4566",
            "max": 1421700479,
            "min": 0,
            "orientation": "horizontal",
            "style": "IPY_MODEL_6c5c5d06047341919210a1fd12eba854",
            "value": 1421700479
          }
        },
        "4a97d60b3fcd463aaec75c3e842664f6": {
          "model_module": "@jupyter-widgets/base",
          "model_module_version": "1.2.0",
          "model_name": "LayoutModel",
          "state": {
            "_model_module": "@jupyter-widgets/base",
            "_model_module_version": "1.2.0",
            "_model_name": "LayoutModel",
            "_view_count": null,
            "_view_module": "@jupyter-widgets/base",
            "_view_module_version": "1.2.0",
            "_view_name": "LayoutView",
            "align_content": null,
            "align_items": null,
            "align_self": null,
            "border": null,
            "bottom": null,
            "display": null,
            "flex": null,
            "flex_flow": null,
            "grid_area": null,
            "grid_auto_columns": null,
            "grid_auto_flow": null,
            "grid_auto_rows": null,
            "grid_column": null,
            "grid_gap": null,
            "grid_row": null,
            "grid_template_areas": null,
            "grid_template_columns": null,
            "grid_template_rows": null,
            "height": null,
            "justify_content": null,
            "justify_items": null,
            "left": null,
            "margin": null,
            "max_height": null,
            "max_width": null,
            "min_height": null,
            "min_width": null,
            "object_fit": null,
            "object_position": null,
            "order": null,
            "overflow": null,
            "overflow_x": null,
            "overflow_y": null,
            "padding": null,
            "right": null,
            "top": null,
            "visibility": null,
            "width": null
          }
        },
        "5604dd232cfa4c11ae318a5d6010c04e": {
          "model_module": "@jupyter-widgets/controls",
          "model_module_version": "1.5.0",
          "model_name": "HTMLModel",
          "state": {
            "_dom_classes": [],
            "_model_module": "@jupyter-widgets/controls",
            "_model_module_version": "1.5.0",
            "_model_name": "HTMLModel",
            "_view_count": null,
            "_view_module": "@jupyter-widgets/controls",
            "_view_module_version": "1.5.0",
            "_view_name": "HTMLView",
            "description": "",
            "description_tooltip": null,
            "layout": "IPY_MODEL_b75743d8aa0647a58d913116a80ca0f4",
            "placeholder": "​",
            "style": "IPY_MODEL_69889d35bdff4fc591cd875e70614eae",
            "value": " 482/482 [00:00&lt;00:00, 19.9kB/s]"
          }
        },
        "56997afc5a3d474bafb08dce9b087431": {
          "model_module": "@jupyter-widgets/base",
          "model_module_version": "1.2.0",
          "model_name": "LayoutModel",
          "state": {
            "_model_module": "@jupyter-widgets/base",
            "_model_module_version": "1.2.0",
            "_model_name": "LayoutModel",
            "_view_count": null,
            "_view_module": "@jupyter-widgets/base",
            "_view_module_version": "1.2.0",
            "_view_name": "LayoutView",
            "align_content": null,
            "align_items": null,
            "align_self": null,
            "border": null,
            "bottom": null,
            "display": null,
            "flex": null,
            "flex_flow": null,
            "grid_area": null,
            "grid_auto_columns": null,
            "grid_auto_flow": null,
            "grid_auto_rows": null,
            "grid_column": null,
            "grid_gap": null,
            "grid_row": null,
            "grid_template_areas": null,
            "grid_template_columns": null,
            "grid_template_rows": null,
            "height": null,
            "justify_content": null,
            "justify_items": null,
            "left": null,
            "margin": null,
            "max_height": null,
            "max_width": null,
            "min_height": null,
            "min_width": null,
            "object_fit": null,
            "object_position": null,
            "order": null,
            "overflow": null,
            "overflow_x": null,
            "overflow_y": null,
            "padding": null,
            "right": null,
            "top": null,
            "visibility": null,
            "width": null
          }
        },
        "57a35c9ed91a4e61861b12917b9aa209": {
          "model_module": "@jupyter-widgets/base",
          "model_module_version": "1.2.0",
          "model_name": "LayoutModel",
          "state": {
            "_model_module": "@jupyter-widgets/base",
            "_model_module_version": "1.2.0",
            "_model_name": "LayoutModel",
            "_view_count": null,
            "_view_module": "@jupyter-widgets/base",
            "_view_module_version": "1.2.0",
            "_view_name": "LayoutView",
            "align_content": null,
            "align_items": null,
            "align_self": null,
            "border": null,
            "bottom": null,
            "display": null,
            "flex": null,
            "flex_flow": null,
            "grid_area": null,
            "grid_auto_columns": null,
            "grid_auto_flow": null,
            "grid_auto_rows": null,
            "grid_column": null,
            "grid_gap": null,
            "grid_row": null,
            "grid_template_areas": null,
            "grid_template_columns": null,
            "grid_template_rows": null,
            "height": null,
            "justify_content": null,
            "justify_items": null,
            "left": null,
            "margin": null,
            "max_height": null,
            "max_width": null,
            "min_height": null,
            "min_width": null,
            "object_fit": null,
            "object_position": null,
            "order": null,
            "overflow": null,
            "overflow_x": null,
            "overflow_y": null,
            "padding": null,
            "right": null,
            "top": null,
            "visibility": null,
            "width": null
          }
        },
        "58bf51a43ac341f1ae51adf8d95ffef4": {
          "model_module": "@jupyter-widgets/base",
          "model_module_version": "1.2.0",
          "model_name": "LayoutModel",
          "state": {
            "_model_module": "@jupyter-widgets/base",
            "_model_module_version": "1.2.0",
            "_model_name": "LayoutModel",
            "_view_count": null,
            "_view_module": "@jupyter-widgets/base",
            "_view_module_version": "1.2.0",
            "_view_name": "LayoutView",
            "align_content": null,
            "align_items": null,
            "align_self": null,
            "border": null,
            "bottom": null,
            "display": null,
            "flex": null,
            "flex_flow": null,
            "grid_area": null,
            "grid_auto_columns": null,
            "grid_auto_flow": null,
            "grid_auto_rows": null,
            "grid_column": null,
            "grid_gap": null,
            "grid_row": null,
            "grid_template_areas": null,
            "grid_template_columns": null,
            "grid_template_rows": null,
            "height": null,
            "justify_content": null,
            "justify_items": null,
            "left": null,
            "margin": null,
            "max_height": null,
            "max_width": null,
            "min_height": null,
            "min_width": null,
            "object_fit": null,
            "object_position": null,
            "order": null,
            "overflow": null,
            "overflow_x": null,
            "overflow_y": null,
            "padding": null,
            "right": null,
            "top": null,
            "visibility": null,
            "width": null
          }
        },
        "5d4ca520962d4128bbc10183e3778cc6": {
          "model_module": "@jupyter-widgets/controls",
          "model_module_version": "1.5.0",
          "model_name": "DescriptionStyleModel",
          "state": {
            "_model_module": "@jupyter-widgets/controls",
            "_model_module_version": "1.5.0",
            "_model_name": "DescriptionStyleModel",
            "_view_count": null,
            "_view_module": "@jupyter-widgets/base",
            "_view_module_version": "1.2.0",
            "_view_name": "StyleView",
            "description_width": ""
          }
        },
        "69889d35bdff4fc591cd875e70614eae": {
          "model_module": "@jupyter-widgets/controls",
          "model_module_version": "1.5.0",
          "model_name": "DescriptionStyleModel",
          "state": {
            "_model_module": "@jupyter-widgets/controls",
            "_model_module_version": "1.5.0",
            "_model_name": "DescriptionStyleModel",
            "_view_count": null,
            "_view_module": "@jupyter-widgets/base",
            "_view_module_version": "1.2.0",
            "_view_name": "StyleView",
            "description_width": ""
          }
        },
        "69e66a90b451493eb40c5de47b4bbe24": {
          "model_module": "@jupyter-widgets/controls",
          "model_module_version": "1.5.0",
          "model_name": "DescriptionStyleModel",
          "state": {
            "_model_module": "@jupyter-widgets/controls",
            "_model_module_version": "1.5.0",
            "_model_name": "DescriptionStyleModel",
            "_view_count": null,
            "_view_module": "@jupyter-widgets/base",
            "_view_module_version": "1.2.0",
            "_view_name": "StyleView",
            "description_width": ""
          }
        },
        "6c5c5d06047341919210a1fd12eba854": {
          "model_module": "@jupyter-widgets/controls",
          "model_module_version": "1.5.0",
          "model_name": "ProgressStyleModel",
          "state": {
            "_model_module": "@jupyter-widgets/controls",
            "_model_module_version": "1.5.0",
            "_model_name": "ProgressStyleModel",
            "_view_count": null,
            "_view_module": "@jupyter-widgets/base",
            "_view_module_version": "1.2.0",
            "_view_name": "StyleView",
            "bar_color": null,
            "description_width": ""
          }
        },
        "6e3b631b2d6f41438f4260f60ef8bc72": {
          "model_module": "@jupyter-widgets/base",
          "model_module_version": "1.2.0",
          "model_name": "LayoutModel",
          "state": {
            "_model_module": "@jupyter-widgets/base",
            "_model_module_version": "1.2.0",
            "_model_name": "LayoutModel",
            "_view_count": null,
            "_view_module": "@jupyter-widgets/base",
            "_view_module_version": "1.2.0",
            "_view_name": "LayoutView",
            "align_content": null,
            "align_items": null,
            "align_self": null,
            "border": null,
            "bottom": null,
            "display": null,
            "flex": null,
            "flex_flow": null,
            "grid_area": null,
            "grid_auto_columns": null,
            "grid_auto_flow": null,
            "grid_auto_rows": null,
            "grid_column": null,
            "grid_gap": null,
            "grid_row": null,
            "grid_template_areas": null,
            "grid_template_columns": null,
            "grid_template_rows": null,
            "height": null,
            "justify_content": null,
            "justify_items": null,
            "left": null,
            "margin": null,
            "max_height": null,
            "max_width": null,
            "min_height": null,
            "min_width": null,
            "object_fit": null,
            "object_position": null,
            "order": null,
            "overflow": null,
            "overflow_x": null,
            "overflow_y": null,
            "padding": null,
            "right": null,
            "top": null,
            "visibility": null,
            "width": null
          }
        },
        "70161d23232a44ed89f2d665b5e0313e": {
          "model_module": "@jupyter-widgets/controls",
          "model_module_version": "1.5.0",
          "model_name": "DescriptionStyleModel",
          "state": {
            "_model_module": "@jupyter-widgets/controls",
            "_model_module_version": "1.5.0",
            "_model_name": "DescriptionStyleModel",
            "_view_count": null,
            "_view_module": "@jupyter-widgets/base",
            "_view_module_version": "1.2.0",
            "_view_name": "StyleView",
            "description_width": ""
          }
        },
        "704532253cf84d78974420097a0f8b52": {
          "model_module": "@jupyter-widgets/controls",
          "model_module_version": "1.5.0",
          "model_name": "DescriptionStyleModel",
          "state": {
            "_model_module": "@jupyter-widgets/controls",
            "_model_module_version": "1.5.0",
            "_model_name": "DescriptionStyleModel",
            "_view_count": null,
            "_view_module": "@jupyter-widgets/base",
            "_view_module_version": "1.2.0",
            "_view_name": "StyleView",
            "description_width": ""
          }
        },
        "786420a997b841a9b7aa151bf72d1e33": {
          "model_module": "@jupyter-widgets/base",
          "model_module_version": "1.2.0",
          "model_name": "LayoutModel",
          "state": {
            "_model_module": "@jupyter-widgets/base",
            "_model_module_version": "1.2.0",
            "_model_name": "LayoutModel",
            "_view_count": null,
            "_view_module": "@jupyter-widgets/base",
            "_view_module_version": "1.2.0",
            "_view_name": "LayoutView",
            "align_content": null,
            "align_items": null,
            "align_self": null,
            "border": null,
            "bottom": null,
            "display": null,
            "flex": null,
            "flex_flow": null,
            "grid_area": null,
            "grid_auto_columns": null,
            "grid_auto_flow": null,
            "grid_auto_rows": null,
            "grid_column": null,
            "grid_gap": null,
            "grid_row": null,
            "grid_template_areas": null,
            "grid_template_columns": null,
            "grid_template_rows": null,
            "height": null,
            "justify_content": null,
            "justify_items": null,
            "left": null,
            "margin": null,
            "max_height": null,
            "max_width": null,
            "min_height": null,
            "min_width": null,
            "object_fit": null,
            "object_position": null,
            "order": null,
            "overflow": null,
            "overflow_x": null,
            "overflow_y": null,
            "padding": null,
            "right": null,
            "top": null,
            "visibility": null,
            "width": null
          }
        },
        "82d965ba2afd4b8494d86c1ab55bfeb2": {
          "model_module": "@jupyter-widgets/controls",
          "model_module_version": "1.5.0",
          "model_name": "DescriptionStyleModel",
          "state": {
            "_model_module": "@jupyter-widgets/controls",
            "_model_module_version": "1.5.0",
            "_model_name": "DescriptionStyleModel",
            "_view_count": null,
            "_view_module": "@jupyter-widgets/base",
            "_view_module_version": "1.2.0",
            "_view_name": "StyleView",
            "description_width": ""
          }
        },
        "84b5be5c47c446ed84db46cd39ec12ec": {
          "model_module": "@jupyter-widgets/base",
          "model_module_version": "1.2.0",
          "model_name": "LayoutModel",
          "state": {
            "_model_module": "@jupyter-widgets/base",
            "_model_module_version": "1.2.0",
            "_model_name": "LayoutModel",
            "_view_count": null,
            "_view_module": "@jupyter-widgets/base",
            "_view_module_version": "1.2.0",
            "_view_name": "LayoutView",
            "align_content": null,
            "align_items": null,
            "align_self": null,
            "border": null,
            "bottom": null,
            "display": null,
            "flex": null,
            "flex_flow": null,
            "grid_area": null,
            "grid_auto_columns": null,
            "grid_auto_flow": null,
            "grid_auto_rows": null,
            "grid_column": null,
            "grid_gap": null,
            "grid_row": null,
            "grid_template_areas": null,
            "grid_template_columns": null,
            "grid_template_rows": null,
            "height": null,
            "justify_content": null,
            "justify_items": null,
            "left": null,
            "margin": null,
            "max_height": null,
            "max_width": null,
            "min_height": null,
            "min_width": null,
            "object_fit": null,
            "object_position": null,
            "order": null,
            "overflow": null,
            "overflow_x": null,
            "overflow_y": null,
            "padding": null,
            "right": null,
            "top": null,
            "visibility": null,
            "width": null
          }
        },
        "870e38f3a24149a0b2c54e7156e2ce8e": {
          "model_module": "@jupyter-widgets/controls",
          "model_module_version": "1.5.0",
          "model_name": "HTMLModel",
          "state": {
            "_dom_classes": [],
            "_model_module": "@jupyter-widgets/controls",
            "_model_module_version": "1.5.0",
            "_model_name": "HTMLModel",
            "_view_count": null,
            "_view_module": "@jupyter-widgets/controls",
            "_view_module_version": "1.5.0",
            "_view_name": "HTMLView",
            "description": "",
            "description_tooltip": null,
            "layout": "IPY_MODEL_4a97d60b3fcd463aaec75c3e842664f6",
            "placeholder": "​",
            "style": "IPY_MODEL_9b2711b8aadc4ebaba2dceb81422638d",
            "value": " 899k/899k [00:00&lt;00:00, 25.3MB/s]"
          }
        },
        "96a6567b194f40ccbe0cedfaa3d81589": {
          "model_module": "@jupyter-widgets/controls",
          "model_module_version": "1.5.0",
          "model_name": "HBoxModel",
          "state": {
            "_dom_classes": [],
            "_model_module": "@jupyter-widgets/controls",
            "_model_module_version": "1.5.0",
            "_model_name": "HBoxModel",
            "_view_count": null,
            "_view_module": "@jupyter-widgets/controls",
            "_view_module_version": "1.5.0",
            "_view_name": "HBoxView",
            "box_style": "",
            "children": [
              "IPY_MODEL_1324f633741c47d2ad8bf3691869007d",
              "IPY_MODEL_4777bc9d8a7c4875b2aceb1b53f1d7e7",
              "IPY_MODEL_027f5b9a88e14457b11d56ecac7a7bb8"
            ],
            "layout": "IPY_MODEL_84b5be5c47c446ed84db46cd39ec12ec"
          }
        },
        "975246e33135408292c42e632ddce013": {
          "model_module": "@jupyter-widgets/base",
          "model_module_version": "1.2.0",
          "model_name": "LayoutModel",
          "state": {
            "_model_module": "@jupyter-widgets/base",
            "_model_module_version": "1.2.0",
            "_model_name": "LayoutModel",
            "_view_count": null,
            "_view_module": "@jupyter-widgets/base",
            "_view_module_version": "1.2.0",
            "_view_name": "LayoutView",
            "align_content": null,
            "align_items": null,
            "align_self": null,
            "border": null,
            "bottom": null,
            "display": null,
            "flex": null,
            "flex_flow": null,
            "grid_area": null,
            "grid_auto_columns": null,
            "grid_auto_flow": null,
            "grid_auto_rows": null,
            "grid_column": null,
            "grid_gap": null,
            "grid_row": null,
            "grid_template_areas": null,
            "grid_template_columns": null,
            "grid_template_rows": null,
            "height": null,
            "justify_content": null,
            "justify_items": null,
            "left": null,
            "margin": null,
            "max_height": null,
            "max_width": null,
            "min_height": null,
            "min_width": null,
            "object_fit": null,
            "object_position": null,
            "order": null,
            "overflow": null,
            "overflow_x": null,
            "overflow_y": null,
            "padding": null,
            "right": null,
            "top": null,
            "visibility": null,
            "width": null
          }
        },
        "9b2711b8aadc4ebaba2dceb81422638d": {
          "model_module": "@jupyter-widgets/controls",
          "model_module_version": "1.5.0",
          "model_name": "DescriptionStyleModel",
          "state": {
            "_model_module": "@jupyter-widgets/controls",
            "_model_module_version": "1.5.0",
            "_model_name": "DescriptionStyleModel",
            "_view_count": null,
            "_view_module": "@jupyter-widgets/base",
            "_view_module_version": "1.2.0",
            "_view_name": "StyleView",
            "description_width": ""
          }
        },
        "ab91741bfe8146e2896d1c072baac79a": {
          "model_module": "@jupyter-widgets/controls",
          "model_module_version": "1.5.0",
          "model_name": "DescriptionStyleModel",
          "state": {
            "_model_module": "@jupyter-widgets/controls",
            "_model_module_version": "1.5.0",
            "_model_name": "DescriptionStyleModel",
            "_view_count": null,
            "_view_module": "@jupyter-widgets/base",
            "_view_module_version": "1.2.0",
            "_view_name": "StyleView",
            "description_width": ""
          }
        },
        "acfea446faa543179170446ca06d5d9b": {
          "model_module": "@jupyter-widgets/controls",
          "model_module_version": "1.5.0",
          "model_name": "ProgressStyleModel",
          "state": {
            "_model_module": "@jupyter-widgets/controls",
            "_model_module_version": "1.5.0",
            "_model_name": "ProgressStyleModel",
            "_view_count": null,
            "_view_module": "@jupyter-widgets/base",
            "_view_module_version": "1.2.0",
            "_view_name": "StyleView",
            "bar_color": null,
            "description_width": ""
          }
        },
        "b4da6c55ab7d4e639a9dae7dcea742d8": {
          "model_module": "@jupyter-widgets/base",
          "model_module_version": "1.2.0",
          "model_name": "LayoutModel",
          "state": {
            "_model_module": "@jupyter-widgets/base",
            "_model_module_version": "1.2.0",
            "_model_name": "LayoutModel",
            "_view_count": null,
            "_view_module": "@jupyter-widgets/base",
            "_view_module_version": "1.2.0",
            "_view_name": "LayoutView",
            "align_content": null,
            "align_items": null,
            "align_self": null,
            "border": null,
            "bottom": null,
            "display": null,
            "flex": null,
            "flex_flow": null,
            "grid_area": null,
            "grid_auto_columns": null,
            "grid_auto_flow": null,
            "grid_auto_rows": null,
            "grid_column": null,
            "grid_gap": null,
            "grid_row": null,
            "grid_template_areas": null,
            "grid_template_columns": null,
            "grid_template_rows": null,
            "height": null,
            "justify_content": null,
            "justify_items": null,
            "left": null,
            "margin": null,
            "max_height": null,
            "max_width": null,
            "min_height": null,
            "min_width": null,
            "object_fit": null,
            "object_position": null,
            "order": null,
            "overflow": null,
            "overflow_x": null,
            "overflow_y": null,
            "padding": null,
            "right": null,
            "top": null,
            "visibility": null,
            "width": null
          }
        },
        "b75743d8aa0647a58d913116a80ca0f4": {
          "model_module": "@jupyter-widgets/base",
          "model_module_version": "1.2.0",
          "model_name": "LayoutModel",
          "state": {
            "_model_module": "@jupyter-widgets/base",
            "_model_module_version": "1.2.0",
            "_model_name": "LayoutModel",
            "_view_count": null,
            "_view_module": "@jupyter-widgets/base",
            "_view_module_version": "1.2.0",
            "_view_name": "LayoutView",
            "align_content": null,
            "align_items": null,
            "align_self": null,
            "border": null,
            "bottom": null,
            "display": null,
            "flex": null,
            "flex_flow": null,
            "grid_area": null,
            "grid_auto_columns": null,
            "grid_auto_flow": null,
            "grid_auto_rows": null,
            "grid_column": null,
            "grid_gap": null,
            "grid_row": null,
            "grid_template_areas": null,
            "grid_template_columns": null,
            "grid_template_rows": null,
            "height": null,
            "justify_content": null,
            "justify_items": null,
            "left": null,
            "margin": null,
            "max_height": null,
            "max_width": null,
            "min_height": null,
            "min_width": null,
            "object_fit": null,
            "object_position": null,
            "order": null,
            "overflow": null,
            "overflow_x": null,
            "overflow_y": null,
            "padding": null,
            "right": null,
            "top": null,
            "visibility": null,
            "width": null
          }
        },
        "b8b779f68f704594b0facbfdcf046fe5": {
          "model_module": "@jupyter-widgets/controls",
          "model_module_version": "1.5.0",
          "model_name": "HTMLModel",
          "state": {
            "_dom_classes": [],
            "_model_module": "@jupyter-widgets/controls",
            "_model_module_version": "1.5.0",
            "_model_name": "HTMLModel",
            "_view_count": null,
            "_view_module": "@jupyter-widgets/controls",
            "_view_module_version": "1.5.0",
            "_view_name": "HTMLView",
            "description": "",
            "description_tooltip": null,
            "layout": "IPY_MODEL_3e3285087abf4641bd942b82967b612f",
            "placeholder": "​",
            "style": "IPY_MODEL_704532253cf84d78974420097a0f8b52",
            "value": "Downloading (…)lve/main/config.json: 100%"
          }
        },
        "c2dd567b618e44e586c74267999fb7cb": {
          "model_module": "@jupyter-widgets/base",
          "model_module_version": "1.2.0",
          "model_name": "LayoutModel",
          "state": {
            "_model_module": "@jupyter-widgets/base",
            "_model_module_version": "1.2.0",
            "_model_name": "LayoutModel",
            "_view_count": null,
            "_view_module": "@jupyter-widgets/base",
            "_view_module_version": "1.2.0",
            "_view_name": "LayoutView",
            "align_content": null,
            "align_items": null,
            "align_self": null,
            "border": null,
            "bottom": null,
            "display": null,
            "flex": null,
            "flex_flow": null,
            "grid_area": null,
            "grid_auto_columns": null,
            "grid_auto_flow": null,
            "grid_auto_rows": null,
            "grid_column": null,
            "grid_gap": null,
            "grid_row": null,
            "grid_template_areas": null,
            "grid_template_columns": null,
            "grid_template_rows": null,
            "height": null,
            "justify_content": null,
            "justify_items": null,
            "left": null,
            "margin": null,
            "max_height": null,
            "max_width": null,
            "min_height": null,
            "min_width": null,
            "object_fit": null,
            "object_position": null,
            "order": null,
            "overflow": null,
            "overflow_x": null,
            "overflow_y": null,
            "padding": null,
            "right": null,
            "top": null,
            "visibility": null,
            "width": null
          }
        },
        "c43e0e86086441148c1c1102692f0710": {
          "model_module": "@jupyter-widgets/controls",
          "model_module_version": "1.5.0",
          "model_name": "HTMLModel",
          "state": {
            "_dom_classes": [],
            "_model_module": "@jupyter-widgets/controls",
            "_model_module_version": "1.5.0",
            "_model_name": "HTMLModel",
            "_view_count": null,
            "_view_module": "@jupyter-widgets/controls",
            "_view_module_version": "1.5.0",
            "_view_name": "HTMLView",
            "description": "",
            "description_tooltip": null,
            "layout": "IPY_MODEL_786420a997b841a9b7aa151bf72d1e33",
            "placeholder": "​",
            "style": "IPY_MODEL_445a854a96b64331bd24d5579d326f13",
            "value": "Downloading (…)/main/tokenizer.json: 100%"
          }
        },
        "c6c9d06c0701442bbfc2c48d7cd93cca": {
          "model_module": "@jupyter-widgets/controls",
          "model_module_version": "1.5.0",
          "model_name": "HTMLModel",
          "state": {
            "_dom_classes": [],
            "_model_module": "@jupyter-widgets/controls",
            "_model_module_version": "1.5.0",
            "_model_name": "HTMLModel",
            "_view_count": null,
            "_view_module": "@jupyter-widgets/controls",
            "_view_module_version": "1.5.0",
            "_view_name": "HTMLView",
            "description": "",
            "description_tooltip": null,
            "layout": "IPY_MODEL_56997afc5a3d474bafb08dce9b087431",
            "placeholder": "​",
            "style": "IPY_MODEL_5d4ca520962d4128bbc10183e3778cc6",
            "value": "Downloading (…)olve/main/vocab.json: 100%"
          }
        },
        "cd20610309484d06bf3c9b86b4f7e59a": {
          "model_module": "@jupyter-widgets/base",
          "model_module_version": "1.2.0",
          "model_name": "LayoutModel",
          "state": {
            "_model_module": "@jupyter-widgets/base",
            "_model_module_version": "1.2.0",
            "_model_name": "LayoutModel",
            "_view_count": null,
            "_view_module": "@jupyter-widgets/base",
            "_view_module_version": "1.2.0",
            "_view_name": "LayoutView",
            "align_content": null,
            "align_items": null,
            "align_self": null,
            "border": null,
            "bottom": null,
            "display": null,
            "flex": null,
            "flex_flow": null,
            "grid_area": null,
            "grid_auto_columns": null,
            "grid_auto_flow": null,
            "grid_auto_rows": null,
            "grid_column": null,
            "grid_gap": null,
            "grid_row": null,
            "grid_template_areas": null,
            "grid_template_columns": null,
            "grid_template_rows": null,
            "height": null,
            "justify_content": null,
            "justify_items": null,
            "left": null,
            "margin": null,
            "max_height": null,
            "max_width": null,
            "min_height": null,
            "min_width": null,
            "object_fit": null,
            "object_position": null,
            "order": null,
            "overflow": null,
            "overflow_x": null,
            "overflow_y": null,
            "padding": null,
            "right": null,
            "top": null,
            "visibility": null,
            "width": null
          }
        },
        "cda10bef63ff49cfba5a51d7daa855ca": {
          "model_module": "@jupyter-widgets/base",
          "model_module_version": "1.2.0",
          "model_name": "LayoutModel",
          "state": {
            "_model_module": "@jupyter-widgets/base",
            "_model_module_version": "1.2.0",
            "_model_name": "LayoutModel",
            "_view_count": null,
            "_view_module": "@jupyter-widgets/base",
            "_view_module_version": "1.2.0",
            "_view_name": "LayoutView",
            "align_content": null,
            "align_items": null,
            "align_self": null,
            "border": null,
            "bottom": null,
            "display": null,
            "flex": null,
            "flex_flow": null,
            "grid_area": null,
            "grid_auto_columns": null,
            "grid_auto_flow": null,
            "grid_auto_rows": null,
            "grid_column": null,
            "grid_gap": null,
            "grid_row": null,
            "grid_template_areas": null,
            "grid_template_columns": null,
            "grid_template_rows": null,
            "height": null,
            "justify_content": null,
            "justify_items": null,
            "left": null,
            "margin": null,
            "max_height": null,
            "max_width": null,
            "min_height": null,
            "min_width": null,
            "object_fit": null,
            "object_position": null,
            "order": null,
            "overflow": null,
            "overflow_x": null,
            "overflow_y": null,
            "padding": null,
            "right": null,
            "top": null,
            "visibility": null,
            "width": null
          }
        },
        "d60751170d554f0faea095b68c87d7ba": {
          "model_module": "@jupyter-widgets/base",
          "model_module_version": "1.2.0",
          "model_name": "LayoutModel",
          "state": {
            "_model_module": "@jupyter-widgets/base",
            "_model_module_version": "1.2.0",
            "_model_name": "LayoutModel",
            "_view_count": null,
            "_view_module": "@jupyter-widgets/base",
            "_view_module_version": "1.2.0",
            "_view_name": "LayoutView",
            "align_content": null,
            "align_items": null,
            "align_self": null,
            "border": null,
            "bottom": null,
            "display": null,
            "flex": null,
            "flex_flow": null,
            "grid_area": null,
            "grid_auto_columns": null,
            "grid_auto_flow": null,
            "grid_auto_rows": null,
            "grid_column": null,
            "grid_gap": null,
            "grid_row": null,
            "grid_template_areas": null,
            "grid_template_columns": null,
            "grid_template_rows": null,
            "height": null,
            "justify_content": null,
            "justify_items": null,
            "left": null,
            "margin": null,
            "max_height": null,
            "max_width": null,
            "min_height": null,
            "min_width": null,
            "object_fit": null,
            "object_position": null,
            "order": null,
            "overflow": null,
            "overflow_x": null,
            "overflow_y": null,
            "padding": null,
            "right": null,
            "top": null,
            "visibility": null,
            "width": null
          }
        },
        "dc213e31ed8041619f163e238d02c8c6": {
          "model_module": "@jupyter-widgets/base",
          "model_module_version": "1.2.0",
          "model_name": "LayoutModel",
          "state": {
            "_model_module": "@jupyter-widgets/base",
            "_model_module_version": "1.2.0",
            "_model_name": "LayoutModel",
            "_view_count": null,
            "_view_module": "@jupyter-widgets/base",
            "_view_module_version": "1.2.0",
            "_view_name": "LayoutView",
            "align_content": null,
            "align_items": null,
            "align_self": null,
            "border": null,
            "bottom": null,
            "display": null,
            "flex": null,
            "flex_flow": null,
            "grid_area": null,
            "grid_auto_columns": null,
            "grid_auto_flow": null,
            "grid_auto_rows": null,
            "grid_column": null,
            "grid_gap": null,
            "grid_row": null,
            "grid_template_areas": null,
            "grid_template_columns": null,
            "grid_template_rows": null,
            "height": null,
            "justify_content": null,
            "justify_items": null,
            "left": null,
            "margin": null,
            "max_height": null,
            "max_width": null,
            "min_height": null,
            "min_width": null,
            "object_fit": null,
            "object_position": null,
            "order": null,
            "overflow": null,
            "overflow_x": null,
            "overflow_y": null,
            "padding": null,
            "right": null,
            "top": null,
            "visibility": null,
            "width": null
          }
        },
        "e5af337119204b05a0c7a96c8c56fa6e": {
          "model_module": "@jupyter-widgets/base",
          "model_module_version": "1.2.0",
          "model_name": "LayoutModel",
          "state": {
            "_model_module": "@jupyter-widgets/base",
            "_model_module_version": "1.2.0",
            "_model_name": "LayoutModel",
            "_view_count": null,
            "_view_module": "@jupyter-widgets/base",
            "_view_module_version": "1.2.0",
            "_view_name": "LayoutView",
            "align_content": null,
            "align_items": null,
            "align_self": null,
            "border": null,
            "bottom": null,
            "display": null,
            "flex": null,
            "flex_flow": null,
            "grid_area": null,
            "grid_auto_columns": null,
            "grid_auto_flow": null,
            "grid_auto_rows": null,
            "grid_column": null,
            "grid_gap": null,
            "grid_row": null,
            "grid_template_areas": null,
            "grid_template_columns": null,
            "grid_template_rows": null,
            "height": null,
            "justify_content": null,
            "justify_items": null,
            "left": null,
            "margin": null,
            "max_height": null,
            "max_width": null,
            "min_height": null,
            "min_width": null,
            "object_fit": null,
            "object_position": null,
            "order": null,
            "overflow": null,
            "overflow_x": null,
            "overflow_y": null,
            "padding": null,
            "right": null,
            "top": null,
            "visibility": null,
            "width": null
          }
        },
        "fd948469b5f24625bd868936800d2517": {
          "model_module": "@jupyter-widgets/controls",
          "model_module_version": "1.5.0",
          "model_name": "ProgressStyleModel",
          "state": {
            "_model_module": "@jupyter-widgets/controls",
            "_model_module_version": "1.5.0",
            "_model_name": "ProgressStyleModel",
            "_view_count": null,
            "_view_module": "@jupyter-widgets/base",
            "_view_module_version": "1.2.0",
            "_view_name": "StyleView",
            "bar_color": null,
            "description_width": ""
          }
        }
      }
    }
  },
  "nbformat": 4,
  "nbformat_minor": 0
}
